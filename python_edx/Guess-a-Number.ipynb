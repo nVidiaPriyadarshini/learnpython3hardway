{
 "cells": [
  {
   "cell_type": "markdown",
   "metadata": {},
   "source": [
    "## Guess the number game"
   ]
  },
  {
   "cell_type": "code",
   "execution_count": 2,
   "metadata": {},
   "outputs": [
    {
     "name": "stdout",
     "output_type": "stream",
     "text": [
      "Hello, what is your name?\n"
     ]
    }
   ],
   "source": [
    "import random\n",
    "print('Hello, what is your name?')"
   ]
  },
  {
   "cell_type": "code",
   "execution_count": 3,
   "metadata": {},
   "outputs": [
    {
     "name": "stdout",
     "output_type": "stream",
     "text": [
      "Vidya\n",
      "Well ,Vidya I am thinking of a number between 1 and 20\n"
     ]
    }
   ],
   "source": [
    "name = input()\n",
    "print('Well ,' + name + ' I am thinking of a number between 1 and 20')"
   ]
  },
  {
   "cell_type": "code",
   "execution_count": 11,
   "metadata": {},
   "outputs": [
    {
     "name": "stdout",
     "output_type": "stream",
     "text": [
      "Take a guess\n",
      "1\n",
      "Guess is too low\n",
      "Take a guess\n",
      "1\n",
      "Guess is too low\n",
      "Take a guess\n",
      "1\n",
      "Guess is too low\n",
      "Take a guess\n",
      "1\n",
      "Guess is too low\n",
      "Take a guess\n",
      "1\n",
      "Guess is too low\n",
      "Take a guess\n",
      "1\n",
      "Guess is too low\n",
      "Nope, the number I was thinking is 14\n"
     ]
    }
   ],
   "source": [
    "secretNumber = random.randint(1,20)\n",
    "for guessesTaken in range(1,7):\n",
    "    print('Take a guess')\n",
    "    guess = int(input())\n",
    "    if guess < secretNumber:\n",
    "        print('Guess is too low')\n",
    "    elif guess > secretNumber:\n",
    "        print('Guess is too high')\n",
    "    else:\n",
    "        break\n",
    "if guess == secretNumber:\n",
    "    print('Congratulations, you guessed within ' + str(guessesTaken) + ' times')\n",
    "else:\n",
    "    print('Nope, the number I was thinking is ' + str(secretNumber))"
   ]
  },
  {
   "cell_type": "code",
   "execution_count": null,
   "metadata": {},
   "outputs": [],
   "source": []
  }
 ],
 "metadata": {
  "kernelspec": {
   "display_name": "Python 3",
   "language": "python",
   "name": "python3"
  },
  "language_info": {
   "codemirror_mode": {
    "name": "ipython",
    "version": 3
   },
   "file_extension": ".py",
   "mimetype": "text/x-python",
   "name": "python",
   "nbconvert_exporter": "python",
   "pygments_lexer": "ipython3",
   "version": "3.6.5"
  }
 },
 "nbformat": 4,
 "nbformat_minor": 2
}
